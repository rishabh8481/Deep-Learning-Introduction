{
 "cells": [
  {
   "cell_type": "code",
   "execution_count": 1,
   "metadata": {},
   "outputs": [],
   "source": [
    "import matplotlib.pyplot as plt\n",
    "import numpy as np\n",
    "import pandas as pd\n",
    "import tensorflow as tf\n",
    "from sklearn.model_selection import train_test_split"
   ]
  },
  {
   "cell_type": "code",
   "execution_count": 2,
   "metadata": {},
   "outputs": [
    {
     "data": {
      "text/plain": [
       "\"\\ndf = pd.read_csv('train/train.csv')\\nX = np.array(df.drop(['label'], 1))\\ny = np.array(df['label']) \\nX_train, X_test, y_train, y_test = train_test_split(X, y, test_size=0.2)\\n\""
      ]
     },
     "execution_count": 2,
     "metadata": {},
     "output_type": "execute_result"
    }
   ],
   "source": [
    "\n",
    "df = pd.read_csv('train/train.csv')\n",
    "X = np.array(df.drop(['label'], 1))\n",
    "y = np.array(df['label']) \n",
    "X_train, X_test, y_train, y_test = train_test_split(X, y, test_size=0.2)\n"
   ]
  },
  {
   "cell_type": "code",
   "execution_count": 3,
   "metadata": {},
   "outputs": [
    {
     "data": {
      "text/plain": [
       "'\\n# model for performing the multiplication\\n# computation graph\\nx1 = tf.constant([[5]]) \\nx2 = tf.constant([[6]])\\nresults = tf.matmul(x1, x2)\\nprint (results)\\n'"
      ]
     },
     "execution_count": 3,
     "metadata": {},
     "output_type": "execute_result"
    }
   ],
   "source": [
    "\n",
    "# model for performing the multiplication\n",
    "# computation graph\n",
    "x1 = tf.constant([[5]]) \n",
    "x2 = tf.constant([[6]])\n",
    "results = tf.matmul(x1, x2)\n",
    "print (results)\n"
   ]
  },
  {
   "cell_type": "code",
   "execution_count": 4,
   "metadata": {},
   "outputs": [
    {
     "data": {
      "text/plain": [
       "'\\n# computation will be performed once we begin the session\\nsess = tf.Session()\\nprint (sess.run(results))\\nsess.close()\\n'"
      ]
     },
     "execution_count": 4,
     "metadata": {},
     "output_type": "execute_result"
    }
   ],
   "source": [
    "\n",
    "# computation will be performed once we begin the session\n",
    "sess = tf.Session()\n",
    "print (sess.run(results))\n",
    "sess.close()\n"
   ]
  },
  {
   "cell_type": "code",
   "execution_count": 5,
   "metadata": {},
   "outputs": [
    {
     "data": {
      "text/plain": [
       "'\\n# good way of implementing the session\\nwith tf.Session() as sess:\\n    output = sess.run(results)\\n    print (output)\\nprint (output)\\n'"
      ]
     },
     "execution_count": 5,
     "metadata": {},
     "output_type": "execute_result"
    }
   ],
   "source": [
    "\n",
    "# good way of implementing the session\n",
    "with tf.Session() as sess:\n",
    "    output = sess.run(results)\n",
    "    print (output)\n",
    "print (output)\n"
   ]
  }
 ],
 "metadata": {
  "kernelspec": {
   "display_name": "Python 3",
   "language": "python",
   "name": "python3"
  },
  "language_info": {
   "codemirror_mode": {
    "name": "ipython",
    "version": 3
   },
   "file_extension": ".py",
   "mimetype": "text/x-python",
   "name": "python",
   "nbconvert_exporter": "python",
   "pygments_lexer": "ipython3",
   "version": "3.6.4"
  }
 },
 "nbformat": 4,
 "nbformat_minor": 2
}
