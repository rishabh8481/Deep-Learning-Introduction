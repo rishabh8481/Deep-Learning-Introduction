{
 "cells": [
  {
   "cell_type": "markdown",
   "metadata": {},
   "source": [
    "Structure of tensorflow\n",
    "input -> weight -> hidden layer 1 (activation function) -> weight -> hidden layer 2 (activation function) -> weights -> output layer\n",
    "\n",
    "\n",
    "compare output to the intended output [cost function (cross entropy)]\n",
    "\n",
    "optimization function (optimizer) -> minimize cost (AdamOptimizer, ..., SGS, AdaGrad)\n",
    "\n",
    "backpropogation\n",
    "\n",
    "feed forward + backprop = epoch\n",
    "\n"
   ]
  },
  {
   "cell_type": "code",
   "execution_count": 2,
   "metadata": {},
   "outputs": [],
   "source": [
    "import tensorflow as tf\n",
    "from tensorflow.examples.tutorials.mnist import input_data"
   ]
  },
  {
   "cell_type": "code",
   "execution_count": 3,
   "metadata": {},
   "outputs": [
    {
     "name": "stdout",
     "output_type": "stream",
     "text": [
      "Successfully downloaded train-images-idx3-ubyte.gz 9912422 bytes.\n",
      "Extracting /train/data/train-images-idx3-ubyte.gz\n",
      "Successfully downloaded train-labels-idx1-ubyte.gz 28881 bytes.\n",
      "Extracting /train/data/train-labels-idx1-ubyte.gz\n",
      "Successfully downloaded t10k-images-idx3-ubyte.gz 1648877 bytes.\n",
      "Extracting /train/data/t10k-images-idx3-ubyte.gz\n",
      "Successfully downloaded t10k-labels-idx1-ubyte.gz 4542 bytes.\n",
      "Extracting /train/data/t10k-labels-idx1-ubyte.gz\n",
      "Datasets(train=<tensorflow.contrib.learn.python.learn.datasets.mnist.DataSet object at 0x0000015C7F7646D8>, validation=<tensorflow.contrib.learn.python.learn.datasets.mnist.DataSet object at 0x0000015C7F764A20>, test=<tensorflow.contrib.learn.python.learn.datasets.mnist.DataSet object at 0x0000015C7F764A90>)\n"
     ]
    }
   ],
   "source": [
    "mnist = input_data.read_data_sets('/train/data/',one_hot = True)\n",
    "print (mnist)\n",
    "# 3 hidden layer\n",
    "n_nodes_nhl1 = 500\n",
    "n_nodes_nhl2 = 500\n",
    "n_nodes_nhl3 = 500\n",
    "\n",
    "# number of classes to be extracted\n",
    "n_classes = 10\n",
    "\n",
    "# do 100 images at a time\n",
    "batch_size = 100\n",
    "\n",
    "# \n",
    "x = tf.placeholder('float',[None,784])\n",
    "y = tf.placeholder('float')"
   ]
  },
  {
   "cell_type": "code",
   "execution_count": 10,
   "metadata": {},
   "outputs": [],
   "source": [
    "def neural_network_model(data):\n",
    "    # model: =  (input_data * weights) + biases\n",
    "    # importance of biases: if all of the data is zero then no neuron will fire, this scenario is avoided using biases\n",
    "    hidden_1_layer = {'weights': tf.Variable(tf.random_normal([784,n_nodes_nhl1])),\n",
    "                      'biases' : tf.Variable(tf.random_normal([n_nodes_nhl1]))}\n",
    "    \n",
    "    hidden_2_layer = {'weights': tf.Variable(tf.random_normal([n_nodes_nhl1,n_nodes_nhl2])),\n",
    "                      'biases' : tf.Variable(tf.random_normal([n_nodes_nhl2]))}\n",
    "    \n",
    "    hidden_3_layer = {'weights': tf.Variable(tf.random_normal([n_nodes_nhl2,n_nodes_nhl3])),\n",
    "                      'biases' : tf.Variable(tf.random_normal([n_nodes_nhl2]))}\n",
    "    \n",
    "    output_layer = {'weights': tf.Variable(tf.random_normal([n_nodes_nhl3,n_classes])),\n",
    "                    'biases' : tf.Variable(tf.random_normal([n_classes]))}\n",
    "    \n",
    "    # model \n",
    "    l1 = tf.add(tf.matmul(data, hidden_1_layer['weights']) , hidden_1_layer['biases'])\n",
    "    # activation function\n",
    "    l1 = tf.nn.relu(l1)\n",
    "    \n",
    "    # model \n",
    "    l2 = tf.add(tf.matmul(l1, hidden_2_layer['weights']) , hidden_2_layer['biases'])\n",
    "    # activation function\n",
    "    l2 = tf.nn.relu(l2)\n",
    "    \n",
    "    # model \n",
    "    l3 = tf.add(tf.matmul(l2, hidden_3_layer['weights']) , hidden_3_layer['biases'])\n",
    "    # activation function\n",
    "    l3 = tf.nn.relu(l3)\n",
    "    \n",
    "    # output layer\n",
    "    output = tf.matmul(l3, output_layer['weights']) + output_layer['biases']\n",
    "    \n",
    "    return output"
   ]
  },
  {
   "cell_type": "code",
   "execution_count": 11,
   "metadata": {},
   "outputs": [
    {
     "name": "stdout",
     "output_type": "stream",
     "text": [
      "Epoch 0 completed out of 10 loss:  1992050.5192260742\n",
      "Epoch 1 completed out of 10 loss:  413013.58973407745\n",
      "Epoch 2 completed out of 10 loss:  220091.5364342332\n",
      "Epoch 3 completed out of 10 loss:  127194.75616007447\n",
      "Epoch 4 completed out of 10 loss:  77347.225543648\n",
      "Epoch 5 completed out of 10 loss:  46743.7035274756\n",
      "Epoch 6 completed out of 10 loss:  33662.72345033288\n",
      "Epoch 7 completed out of 10 loss:  23275.011362580084\n",
      "Epoch 8 completed out of 10 loss:  19604.250035867095\n",
      "Epoch 9 completed out of 10 loss:  17970.622075219406\n",
      "Accuracy 0.9495\n"
     ]
    }
   ],
   "source": [
    "def train_neural_network(x):\n",
    "    prediction = neural_network_model(x)\n",
    "    \n",
    "    cost = tf.reduce_mean(tf.nn.softmax_cross_entropy_with_logits_v2(logits = prediction,labels = y))\n",
    "    optimizer = tf.train.AdamOptimizer().minimize(cost)\n",
    "    hm_epochs = 10\n",
    "    with tf.Session() as sess:\n",
    "        sess.run(tf.global_variables_initializer())\n",
    "        for epoch in range(hm_epochs):\n",
    "            epochs_loss = 0\n",
    "            for _ in range(int(mnist.train.num_examples/batch_size)):\n",
    "                epoch_x, epoch_y = mnist.train.next_batch(batch_size)\n",
    "                #print (epoch_x.shape, '  dfsbjskdhbf kjsaygfvdk lhvaflj kjlejdbvfa hv ', epoch_y.shape)\n",
    "                \n",
    "                _,c = sess.run([optimizer,cost], feed_dict = {x: epoch_x,y:epoch_y})\n",
    "                epochs_loss += c\n",
    "            print ('Epoch', epoch, 'completed out of', hm_epochs,'loss: ', epochs_loss)\n",
    "        \n",
    "        \n",
    "        \n",
    "        correct = tf.equal(tf.argmax(prediction, 1), tf.argmax(y,1))\n",
    "        accuracy = tf.reduce_mean(tf.cast(correct, 'float'))\n",
    "        print ('Accuracy' , accuracy.eval({x:mnist.test.images, y:mnist.test.labels}))\n",
    "\n",
    "train_neural_network(x)"
   ]
  },
  {
   "cell_type": "code",
   "execution_count": null,
   "metadata": {},
   "outputs": [],
   "source": []
  }
 ],
 "metadata": {
  "kernelspec": {
   "display_name": "Python 3",
   "language": "python",
   "name": "python3"
  },
  "language_info": {
   "codemirror_mode": {
    "name": "ipython",
    "version": 3
   },
   "file_extension": ".py",
   "mimetype": "text/x-python",
   "name": "python",
   "nbconvert_exporter": "python",
   "pygments_lexer": "ipython3",
   "version": "3.6.4"
  }
 },
 "nbformat": 4,
 "nbformat_minor": 2
}
