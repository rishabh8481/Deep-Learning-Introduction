{
 "cells": [
  {
   "cell_type": "code",
   "execution_count": 1,
   "metadata": {},
   "outputs": [
    {
     "name": "stderr",
     "output_type": "stream",
     "text": [
      "Using TensorFlow backend.\n"
     ]
    }
   ],
   "source": [
    "import numpy as np\n",
    "import pandas as pd\n",
    "from sklearn.model_selection import train_test_split\n",
    "from keras.models import Sequential\n",
    "from keras.layers import Dense, Dropout, Activation, Flatten\n",
    "from keras.layers import Convolution2D, MaxPooling2D\n",
    "from keras.utils import np_utils\n",
    "#from keras.datasets import mnist"
   ]
  },
  {
   "cell_type": "code",
   "execution_count": 2,
   "metadata": {},
   "outputs": [],
   "source": [
    "df = pd.read_csv('train/train.csv')\n",
    "X = np.array(df.drop(['label'], 1))\n",
    "y = np.array(df['label']) \n",
    "X_train, X_test, y_train, y_test = train_test_split(X, y, test_size=0.2)\n",
    "X_train = X_train.reshape(X_train.shape[0], 1, 28, 28)\n",
    "X_test = X_test.reshape(X_test.shape[0], 1, 28, 28)\n",
    "y_train = np_utils.to_categorical(y_train, max(y) +1)\n",
    "y_test = np_utils.to_categorical(y_test, max(y) +1)\n",
    "\n",
    "X_train = X_train.astype('float32')\n",
    "X_test = X_test.astype('float32')\n",
    "X_train /= 255\n",
    "X_test /= 255\n",
    "\n",
    "# do 100 images at a time\n",
    "batch_size = 100"
   ]
  },
  {
   "cell_type": "code",
   "execution_count": 3,
   "metadata": {},
   "outputs": [
    {
     "name": "stdout",
     "output_type": "stream",
     "text": [
      "(21964, 1, 28, 28)\n",
      "(5491, 1, 28, 28)\n",
      "(21964, 25)\n",
      "(5491, 25)\n"
     ]
    }
   ],
   "source": [
    "print (X_train.shape)\n",
    "print (X_test.shape)\n",
    "print (y_train.shape)\n",
    "print (y_test.shape)"
   ]
  },
  {
   "cell_type": "code",
   "execution_count": 4,
   "metadata": {},
   "outputs": [],
   "source": [
    "model = Sequential()"
   ]
  },
  {
   "cell_type": "code",
   "execution_count": 5,
   "metadata": {},
   "outputs": [
    {
     "name": "stdout",
     "output_type": "stream",
     "text": [
      "(None, 32, 26, 26)\n",
      "(None, 30, 24, 32)\n",
      "(None, 15, 12, 32)\n",
      "(None, 128)\n",
      "(None, 25)\n"
     ]
    },
    {
     "name": "stderr",
     "output_type": "stream",
     "text": [
      "c:\\users\\risha\\documents\\sign\\venv\\lib\\site-packages\\ipykernel_launcher.py:7: UserWarning: Update your `Conv2D` call to the Keras 2 API: `Conv2D(32, (3, 3), activation=\"relu\")`\n",
      "  import sys\n",
      "c:\\users\\risha\\documents\\sign\\venv\\lib\\site-packages\\keras\\models.py:942: UserWarning: The `nb_epoch` argument in `fit` has been renamed `epochs`.\n",
      "  warnings.warn('The `nb_epoch` argument in `fit` '\n"
     ]
    },
    {
     "name": "stdout",
     "output_type": "stream",
     "text": [
      "Epoch 1/10\n",
      "21964/21964 [==============================] - 125s 6ms/step - loss: 2.0305 - acc: 0.3665\n",
      "Epoch 2/10\n",
      "21964/21964 [==============================] - 132s 6ms/step - loss: 0.9933 - acc: 0.6539 3s - loss: 0.\n",
      "Epoch 3/10\n",
      "21964/21964 [==============================] - 132s 6ms/step - loss: 0.6702 - acc: 0.7574\n",
      "Epoch 4/10\n",
      "21964/21964 [==============================] - 134s 6ms/step - loss: 0.5214 - acc: 0.8098\n",
      "Epoch 5/10\n",
      "21964/21964 [==============================] - 133s 6ms/step - loss: 0.4243 - acc: 0.8426\n",
      "Epoch 6/10\n",
      "21964/21964 [==============================] - 136s 6ms/step - loss: 0.3684 - acc: 0.8602\n",
      "Epoch 7/10\n",
      "21964/21964 [==============================] - 138s 6ms/step - loss: 0.3308 - acc: 0.8772\n",
      "Epoch 8/10\n",
      "21964/21964 [==============================] - 137s 6ms/step - loss: 0.2921 - acc: 0.8910\n",
      "Epoch 9/10\n",
      "21964/21964 [==============================] - 135s 6ms/step - loss: 0.2674 - acc: 0.8977\n",
      "Epoch 10/10\n",
      "21964/21964 [==============================] - 136s 6ms/step - loss: 0.2357 - acc: 0.9096\n"
     ]
    },
    {
     "data": {
      "text/plain": [
       "<keras.callbacks.History at 0x2199b658eb8>"
      ]
     },
     "execution_count": 5,
     "metadata": {},
     "output_type": "execute_result"
    }
   ],
   "source": [
    "# 32 convolution filter\n",
    "# 3 rows \n",
    "# 3 columns\n",
    "model.add(Convolution2D(32, (3, 3), activation='relu', input_shape=(1,28,28), data_format = 'channels_first'))\n",
    "print (model.output_shape)\n",
    "\n",
    "model.add(Convolution2D(32, 3, 3, activation='relu'))\n",
    "print (model.output_shape)\n",
    "model.add(MaxPooling2D(pool_size=(2,2)))\n",
    "\n",
    "print (model.output_shape)\n",
    "\n",
    "model.add(Dropout(0.25))\n",
    "\n",
    "model.add(Flatten())\n",
    "model.add(Dense(128, activation='relu'))\n",
    "print (model.output_shape)\n",
    "model.add(Dropout(0.5))\n",
    "model.add(Dense(25, activation='softmax'))\n",
    "print (model.output_shape)\n",
    "model.compile(loss='categorical_crossentropy',\n",
    "              optimizer='adam',\n",
    "              metrics=['accuracy'])\n",
    "\n",
    "model.fit(X_train, y_train, \n",
    "          batch_size=32, nb_epoch=10, verbose=1)       "
   ]
  },
  {
   "cell_type": "code",
   "execution_count": 13,
   "metadata": {},
   "outputs": [
    {
     "name": "stdout",
     "output_type": "stream",
     "text": [
      "Saved model to disk\n"
     ]
    }
   ],
   "source": [
    "# serialize model to JSON\n",
    "model_json = model.to_json()\n",
    "with open(\"model.json\", \"w\") as json_file:\n",
    "    json_file.write(model_json)\n",
    "# serialize weights to HDF5\n",
    "print(\"Saved model to disk\")"
   ]
  },
  {
   "cell_type": "code",
   "execution_count": 12,
   "metadata": {},
   "outputs": [
    {
     "name": "stdout",
     "output_type": "stream",
     "text": [
      "0.0036449982290956908\n",
      "1.0\n"
     ]
    }
   ],
   "source": [
    "score = model.evaluate(X_test, y_test, verbose=0)\n",
    "print (score[0])\n",
    "print (score[1]) \n",
    "# score 0 : Loss\n",
    "# score 1 : accuracy"
   ]
  },
  {
   "cell_type": "code",
   "execution_count": null,
   "metadata": {},
   "outputs": [],
   "source": []
  }
 ],
 "metadata": {
  "kernelspec": {
   "display_name": "Python 3",
   "language": "python",
   "name": "python3"
  },
  "language_info": {
   "codemirror_mode": {
    "name": "ipython",
    "version": 3
   },
   "file_extension": ".py",
   "mimetype": "text/x-python",
   "name": "python",
   "nbconvert_exporter": "python",
   "pygments_lexer": "ipython3",
   "version": "3.6.4"
  }
 },
 "nbformat": 4,
 "nbformat_minor": 2
}
